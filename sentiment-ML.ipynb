{
 "cells": [
  {
   "cell_type": "code",
   "execution_count": 23,
   "metadata": {},
   "outputs": [],
   "source": [
    "# Importando as bibliotecas\n",
    "import numpy as np\n",
    "import pandas as pd\n",
    "import pickle\n",
    "from sklearn.metrics import confusion_matrix, accuracy_score, classification_report\n",
    "from sklearn.ensemble import VotingClassifier, RandomForestClassifier, ExtraTreesClassifier, AdaBoostClassifier, GradientBoostingClassifier\n",
    "from sklearn.decomposition import PCA\n",
    "from sklearn.naive_bayes import MultinomialNB, BernoulliNB\n",
    "\n",
    "%matplotlib inline"
   ]
  },
  {
   "cell_type": "code",
   "execution_count": 9,
   "metadata": {},
   "outputs": [],
   "source": [
    "f = open(\"processed_data.pickle\", \"rb\")\n",
    "X_train, y_train, X_test = pickle.load(f)\n",
    "f.close()"
   ]
  },
  {
   "cell_type": "markdown",
   "metadata": {},
   "source": [
    "# Choosing hyperparameters for the classifiers "
   ]
  },
  {
   "cell_type": "code",
   "execution_count": null,
   "metadata": {},
   "outputs": [],
   "source": [
    "# Definning params for classifiers\n",
    "\n",
    "params_rf = {'n_estimators': 50,\n",
    "             'criterion': 'entropy',\n",
    "             'n_jobs': 2,\n",
    "             'random_state': 42,\n",
    "             'verbose': 2\n",
    "}\n",
    "\n",
    "params_etc = {'n_estimators': 50,\n",
    "              'criterion': 'entropy',\n",
    "              'max_depth': None,\n",
    "              'min_samples_split': 2,\n",
    "              'min_samples_leaf': 1,\n",
    "              'n_jobs': 2,\n",
    "              'random_state': 42,\n",
    "              'verbose': 2\n",
    "}\n",
    "\n",
    "params_ada = {'n_estimators': 50,\n",
    "              'learning_rate': 1,\n",
    "              'random_state': 42,\n",
    "             }\n",
    "\n",
    "params_gtb = {'loss': 'deviance',\n",
    "              'learning_rate': 1,\n",
    "              'n_estimators': 50,\n",
    "              'random_state': 42,\n",
    "              'verbose': 2\n",
    "}\n",
    "# Creating the classifiers"
   ]
  },
  {
   "cell_type": "markdown",
   "metadata": {},
   "source": [
    "# Creating the classifiers"
   ]
  },
  {
   "cell_type": "code",
   "execution_count": null,
   "metadata": {},
   "outputs": [],
   "source": [
    "#Creating the classifiers\n",
    "clf_rf = RandomForestClassifier(**params_rf)\n",
    "clf_etc = ExtraTreesClassifier(**params_etc)\n",
    "clf_ada = AdaBoostClassifier(**params_ada)\n",
    "clf_gtb = GradientBoostingClassifier(**params_gtb)\n",
    "#clf_mnb = MultinomialNB()\n",
    "#clf_bnv = BernoulliNB()\n",
    "#clf_svm = SVC(kernel=\"rbf\", random_state = 42)"
   ]
  },
  {
   "cell_type": "markdown",
   "metadata": {},
   "source": [
    "# Ensembling the models"
   ]
  },
  {
   "cell_type": "code",
   "execution_count": null,
   "metadata": {},
   "outputs": [],
   "source": [
    "clf_ens = VotingClassifier(estimators=[('rf', clf_rf), \n",
    "                                       ('etc', clf_etc), \n",
    "                                       ('ada', clf_ada), \n",
    "                                       ('gtb', clf_gtb)],\n",
    "                           voting='hard',\n",
    "                           n_jobs = 1)\n",
    "\n",
    "clf_ens.fit(corpus_train, y_train)"
   ]
  },
  {
   "cell_type": "markdown",
   "metadata": {},
   "source": [
    "# Creating the submission file"
   ]
  },
  {
   "cell_type": "code",
   "execution_count": null,
   "metadata": {},
   "outputs": [],
   "source": [
    "#pd.DataFrame({\"PhraseId\": PhraseId, \"Sentiment\": clf_ens.predict(corpus_test)}).to_csv(\"./results/results_ens.csv\", index=None)\n",
    "PhraseId = test.index.values\n",
    "pd.DataFrame({\"PhraseId\": PhraseId, \n",
    "              \"Sentiment\": clf_ens.predict(corpus_test)}).to_csv(\"./results/results_ens.csv\", \n",
    "                                                                index=None)"
   ]
  },
  {
   "cell_type": "code",
   "execution_count": null,
   "metadata": {},
   "outputs": [],
   "source": [
    "for i in range(4):\n",
    "    pd.DataFrame({\"PhraseId\": PhraseId, \n",
    "                  \"Sentiment\": clf_ens.estimators_[i].predict(corpus_test)}).to_csv(\"./results/results_{}.csv\".format(i), \n",
    "                                                                                    index=None)# Evaluating the models"
   ]
  },
  {
   "cell_type": "markdown",
   "metadata": {},
   "source": [
    "# Evaluating the models"
   ]
  },
  {
   "cell_type": "code",
   "execution_count": null,
   "metadata": {},
   "outputs": [],
   "source": [
    "acc = accuracy_score(y_train, clf_ens.estimators_[3].predict(corpus_train))\n",
    "acc"
   ]
  }
 ],
 "metadata": {
  "kernelspec": {
   "display_name": "Python 3",
   "language": "python",
   "name": "python3"
  },
  "language_info": {
   "codemirror_mode": {
    "name": "ipython",
    "version": 3
   },
   "file_extension": ".py",
   "mimetype": "text/x-python",
   "name": "python",
   "nbconvert_exporter": "python",
   "pygments_lexer": "ipython3",
   "version": "3.5.2"
  }
 },
 "nbformat": 4,
 "nbformat_minor": 2
}
